{
 "cells": [
  {
   "cell_type": "markdown",
   "metadata": {},
   "source": [
    "# CPSC380: 1_python_8_operator_overloading \n",
    "\n",
    "Here is the [link](https://www.cs.auckland.ac.nz/compsci105s1c/lectures/angela/L06.pdf)"
   ]
  },
  {
   "cell_type": "markdown",
   "metadata": {},
   "source": [
    "Magic methods are not meant to be invoked directly by you, but the invocation happens internally from the class on a certain action. For example, when you add two numbers using the + operator, internally, the __add__() method will be called."
   ]
  },
  {
   "cell_type": "code",
   "execution_count": 1,
   "metadata": {},
   "outputs": [
    {
     "name": "stdout",
     "output_type": "stream",
     "text": [
      "['__add__', '__class__', '__contains__', '__delattr__', '__dir__', '__doc__', '__eq__', '__format__', '__ge__', '__getattribute__', '__getitem__', '__getnewargs__', '__gt__', '__hash__', '__init__', '__init_subclass__', '__iter__', '__le__', '__len__', '__lt__', '__mod__', '__mul__', '__ne__', '__new__', '__reduce__', '__reduce_ex__', '__repr__', '__rmod__', '__rmul__', '__setattr__', '__sizeof__', '__str__', '__subclasshook__', 'capitalize', 'casefold', 'center', 'count', 'encode', 'endswith', 'expandtabs', 'find', 'format', 'format_map', 'index', 'isalnum', 'isalpha', 'isascii', 'isdecimal', 'isdigit', 'isidentifier', 'islower', 'isnumeric', 'isprintable', 'isspace', 'istitle', 'isupper', 'join', 'ljust', 'lower', 'lstrip', 'maketrans', 'partition', 'replace', 'rfind', 'rindex', 'rjust', 'rpartition', 'rsplit', 'rstrip', 'split', 'splitlines', 'startswith', 'strip', 'swapcase', 'title', 'translate', 'upper', 'zfill']\n"
     ]
    }
   ],
   "source": [
    "name = 'Smith'\n",
    "print (dir(name))"
   ]
  },
  {
   "cell_type": "code",
   "execution_count": 5,
   "metadata": {},
   "outputs": [
    {
     "name": "stdout",
     "output_type": "stream",
     "text": [
      "John Smith\n",
      "John Smith\n"
     ]
    }
   ],
   "source": [
    "# \n",
    "first,last = \"John \", \"Smith\"\n",
    "print(first.__add__(last))\n",
    "print(first+last)"
   ]
  },
  {
   "cell_type": "code",
   "execution_count": 6,
   "metadata": {},
   "outputs": [
    {
     "name": "stdout",
     "output_type": "stream",
     "text": [
      "John John John \n",
      "John John John \n"
     ]
    }
   ],
   "source": [
    "print(first.__mul__(3))\n",
    "print(first*3)"
   ]
  },
  {
   "cell_type": "code",
   "execution_count": 8,
   "metadata": {},
   "outputs": [
    {
     "name": "stdout",
     "output_type": "stream",
     "text": [
      "<str_iterator object at 0x0000020460324688>\n",
      "<str_iterator object at 0x0000020460324608>\n"
     ]
    }
   ],
   "source": [
    "print(first.__iter__())\n",
    "print(iter(first))"
   ]
  },
  {
   "cell_type": "code",
   "execution_count": 16,
   "metadata": {},
   "outputs": [
    {
     "name": "stdout",
     "output_type": "stream",
     "text": [
      "True\n",
      "True\n",
      "False\n",
      "False\n"
     ]
    }
   ],
   "source": [
    "first1,first2,first3 = \"John\", \"John\", \"John2\"\n",
    "print(first1.__eq__(first2))\n",
    "print(first1 == first2)\n",
    "print(first1.__eq__(first3))\n",
    "print(first1 == first3)\n"
   ]
  },
  {
   "cell_type": "code",
   "execution_count": null,
   "metadata": {},
   "outputs": [],
   "source": []
  },
  {
   "cell_type": "markdown",
   "metadata": {},
   "source": [
    "### 2. Fraction Class with operator overriding"
   ]
  },
  {
   "cell_type": "code",
   "execution_count": 2,
   "metadata": {},
   "outputs": [],
   "source": [
    "class Fraction:\n",
    "#The Fraction class implements non-negative fractions, i.e., rational numbers.\n",
    "\tdef __init__(self, top, bottom):\n",
    "\t#Constructs a Fraction num/den\n",
    "\t\tcommon = Fraction.gcd(top, bottom) #get largest common term\n",
    "\t\tself.num = top  // common\t\t   #numerator\n",
    "\t\tself.den = bottom  // common\t  #denominator\n",
    "\t\t#self.num = top\n",
    "\t\t#self.den = bottom\n",
    "\n",
    "\tdef __repr__(self):\n",
    "\t#Computes the \"official\" string reputation of a Fraction\n",
    "\t\treturn 'Fraction({0}, {1})'.format(self.num, self.den)\n",
    "\n",
    "\tdef __str__(self):\n",
    "\t#Computes the \"informal\" string representations of a Fraction.\n",
    "\t\treturn str(self.num) + '/' + str(self.den)\n",
    "\n",
    "\tdef __add__(self, other):\n",
    "\t#Adds two fractions and return the result. \n",
    "\t\tnew_num = self.num * other.den + self.den * other.num\n",
    "\t\tnew_den = self.den * other.den\n",
    "\t\treturn Fraction(new_num, new_den)\n",
    "\n",
    "\tdef __iadd__(self, other):\n",
    "\t\tnew_num = self.num * other.den + self.den * other.num\n",
    "\t\tnew_den = self.den * other.den\n",
    "\t\tcommon = Fraction.gcd(new_num, new_den)\n",
    "\t\tself.num = new_num // common\n",
    "\t\tself.den = new_den // common\n",
    "\t\treturn self\n",
    "\n",
    "\tdef __sub__(self, other):\n",
    "\t#subtracts two fractions and return the result. \n",
    "\t\tnew_num = self.num * other.den - self.den * other.num\n",
    "\t\tnew_den = self.den * other.den\n",
    "\t\treturn Fraction(new_num, new_den)\n",
    "\n",
    "\tdef __eq__(self, other):\n",
    "\t#Determines whether or not two fractions are equal.\n",
    "\t\tif not isinstance(other, Fraction):\n",
    "\t\t\treturn False\n",
    "\t\treturn self.num * other.den == other.num * self.den\n",
    "\n",
    "\tdef gcd(m, n):\n",
    "\t#Computes the greatest common divisor (gcd) of the two numbers.\n",
    "\t\twhile m % n != 0:\n",
    "\t\t\told_m = m\n",
    "\t\t\told_n = n\n",
    "\t\t\tm = old_n\n",
    "\t\t\tn = old_m % old_n\n",
    "\t\t\t#print(m, n, old_m, old_n)\n",
    "\t\treturn n\n",
    "\n",
    "\tdef __mul__(self, other):\n",
    "\t#multiply two fractions and return the result. \n",
    "\t\tif isinstance(other,Fraction):\n",
    "\t\t\tnew_num = self.num * other.num\n",
    "\t\t\tnew_den = self.den * other.den\n",
    "\t\t\treturn Fraction(new_num, new_den)\n",
    "\t\telse: \n",
    "\t\t\tnew_num = self.num *  other\n",
    "\t\t\treturn Fraction(new_num, self.den)\n",
    "\n",
    "\tdef __rmul__(self, other):\n",
    "\t\tnew_num = self.num *  other\n",
    "\t\treturn Fraction(new_num, self.den)"
   ]
  },
  {
   "cell_type": "code",
   "execution_count": 3,
   "metadata": {},
   "outputs": [
    {
     "name": "stdout",
     "output_type": "stream",
     "text": [
      "1/2\n",
      "1\n"
     ]
    },
    {
     "data": {
      "text/plain": [
       "['__add__',\n",
       " '__class__',\n",
       " '__delattr__',\n",
       " '__dict__',\n",
       " '__dir__',\n",
       " '__doc__',\n",
       " '__eq__',\n",
       " '__format__',\n",
       " '__ge__',\n",
       " '__getattribute__',\n",
       " '__getstate__',\n",
       " '__gt__',\n",
       " '__hash__',\n",
       " '__iadd__',\n",
       " '__init__',\n",
       " '__init_subclass__',\n",
       " '__le__',\n",
       " '__lt__',\n",
       " '__module__',\n",
       " '__mul__',\n",
       " '__ne__',\n",
       " '__new__',\n",
       " '__reduce__',\n",
       " '__reduce_ex__',\n",
       " '__repr__',\n",
       " '__rmul__',\n",
       " '__setattr__',\n",
       " '__sizeof__',\n",
       " '__str__',\n",
       " '__sub__',\n",
       " '__subclasshook__',\n",
       " '__weakref__',\n",
       " 'den',\n",
       " 'gcd',\n",
       " 'num']"
      ]
     },
     "execution_count": 3,
     "metadata": {},
     "output_type": "execute_result"
    }
   ],
   "source": [
    "x = Fraction(1, 2)\n",
    "y = Fraction(1, 4)\n",
    "print(x)\n",
    "print(x.num)\n",
    "dir(x)"
   ]
  },
  {
   "cell_type": "code",
   "execution_count": 26,
   "metadata": {},
   "outputs": [
    {
     "name": "stdout",
     "output_type": "stream",
     "text": [
      "3/4\n",
      "3/4\n",
      "1/4\n",
      "1/4\n",
      "-1/4\n",
      "-1/4\n"
     ]
    }
   ],
   "source": [
    "# check add/subtraction\n",
    "print (x.__add__(y))\n",
    "print(x + y)\n",
    "\n",
    "print (x.__sub__(y))\n",
    "print(x - y)\n",
    "\n",
    "print (y.__sub__(x))\n",
    "print(y - x)\n"
   ]
  }
 ],
 "metadata": {
  "kernelspec": {
   "display_name": "Python 3",
   "language": "python",
   "name": "python3"
  },
  "language_info": {
   "codemirror_mode": {
    "name": "ipython",
    "version": 3
   },
   "file_extension": ".py",
   "mimetype": "text/x-python",
   "name": "python",
   "nbconvert_exporter": "python",
   "pygments_lexer": "ipython3",
   "version": "3.11.1"
  },
  "vscode": {
   "interpreter": {
    "hash": "336e349e30a9206dcf01b912511f93e5f6bbb4c3f49539de93fb91a7131e0fd7"
   }
  }
 },
 "nbformat": 4,
 "nbformat_minor": 2
}
