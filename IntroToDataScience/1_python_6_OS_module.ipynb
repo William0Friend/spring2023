{
 "cells": [
  {
   "cell_type": "markdown",
   "metadata": {},
   "source": [
    "# CPSC380: Python OS Module\n",
    "\n",
    "Here is the [link](https://www.tutorialsteacher.com/python/os-module)\n",
    "\n",
    "- **getcwd**: get the current directory\n",
    "- **listdir**: List files and sub-directories\n",
    "- **mkdir**: create a new directory\n",
    "- **rmdir**: remove the directory\n",
    "- **chdir**: change to a new directory\n",
    "- **path.join**: join directory, files..\n",
    "- **path.exists**: check the existence of file/directory\n",
    "- **path.isfile**: checking if a path is a file\n",
    "- **path.isdir**: checking if a path is a directory"
   ]
  },
  {
   "cell_type": "code",
   "execution_count": null,
   "metadata": {},
   "outputs": [],
   "source": [
    "import os"
   ]
  },
  {
   "cell_type": "markdown",
   "metadata": {},
   "source": [
    "### 1.1 Getting Current Working Directory\n",
    "The **getcwd()** function confirms returns the current working directory."
   ]
  },
  {
   "cell_type": "code",
   "execution_count": null,
   "metadata": {},
   "outputs": [],
   "source": [
    "os.getcwd()"
   ]
  },
  {
   "cell_type": "code",
   "execution_count": null,
   "metadata": {},
   "outputs": [],
   "source": [
    "curDir = os.getcwd()"
   ]
  },
  {
   "cell_type": "markdown",
   "metadata": {},
   "source": [
    "### 1.2 List Files and Sub-directories\n",
    "The listdir() function returns the list of all files and directories in the specified directory."
   ]
  },
  {
   "cell_type": "code",
   "execution_count": null,
   "metadata": {},
   "outputs": [],
   "source": [
    " files_dirs= os.listdir(curDir)"
   ]
  },
  {
   "cell_type": "code",
   "execution_count": null,
   "metadata": {},
   "outputs": [],
   "source": [
    "print (files_dirs)"
   ]
  },
  {
   "cell_type": "markdown",
   "metadata": {},
   "source": [
    "### 1.3 Creating a Directory\n",
    "We can create a new directory using the os.mkdir() function, as shown below."
   ]
  },
  {
   "cell_type": "code",
   "execution_count": null,
   "metadata": {},
   "outputs": [],
   "source": [
    "os.mkdir(\"testDir\") # you might error if the directory existed"
   ]
  },
  {
   "cell_type": "code",
   "execution_count": null,
   "metadata": {},
   "outputs": [],
   "source": []
  },
  {
   "cell_type": "markdown",
   "metadata": {},
   "source": [
    "### 1.4 Removing a Directory\n",
    "The rmdir() function in the OS module removes the specified directory either with an absolute or relative path. Note that, for a directory to be removed, it should be empty."
   ]
  },
  {
   "cell_type": "code",
   "execution_count": null,
   "metadata": {},
   "outputs": [],
   "source": [
    "os.rmdir(\"testDir\") # you might error if the directory not existed"
   ]
  },
  {
   "cell_type": "code",
   "execution_count": null,
   "metadata": {},
   "outputs": [],
   "source": []
  },
  {
   "cell_type": "markdown",
   "metadata": {},
   "source": [
    "### 1.5 Changing the Current Working Directory\n",
    "\n",
    "We must first change the current working directory to a newly created one before doing any operations in it. This is done using the chdir() function. "
   ]
  },
  {
   "cell_type": "code",
   "execution_count": null,
   "metadata": {},
   "outputs": [],
   "source": [
    "#os.chdir(\"C:\\\\\")"
   ]
  },
  {
   "cell_type": "code",
   "execution_count": null,
   "metadata": {},
   "outputs": [],
   "source": [
    "curDir = os.getcwd()\n",
    "print (\"curDir: \", curDir)\n",
    "\n",
    "os.chdir('..') # chdir does NOT return the changed directory as getcwd() \n",
    "print (\"parentDir: \", os.getcwd())\n",
    "\n",
    "os.chdir(curDir)\n",
    "print (\"curDir: \", os.getcwd())"
   ]
  },
  {
   "cell_type": "code",
   "execution_count": null,
   "metadata": {},
   "outputs": [],
   "source": []
  },
  {
   "cell_type": "markdown",
   "metadata": {},
   "source": [
    "### 1.6 Linux and Windows Paths\n",
    "\n",
    "- On Windows, paths are written using backslashes (`\\`) as the separator between folder names. \n",
    "- On Unix based operating system such as macOS, Linux, we use the forward slash (`/`). \n",
    "\n",
    "Python provides us with **os.path.join** to handle this."
   ]
  },
  {
   "cell_type": "code",
   "execution_count": null,
   "metadata": {
    "scrolled": true
   },
   "outputs": [],
   "source": [
    "curDir = os.getcwd()\n",
    "print (\"curDir: \", curDir)\n",
    "\n",
    "#os.chdir('..') \n",
    "parentDir = os.getcwd()\n",
    "\n",
    "path = os.path.join(parentDir, 'newDir')\n",
    "print (\"path: \", path)"
   ]
  },
  {
   "cell_type": "markdown",
   "metadata": {},
   "source": [
    "### 1. 7 Path/File existence\n",
    "Checking if a file/directory exists"
   ]
  },
  {
   "cell_type": "code",
   "execution_count": null,
   "metadata": {},
   "outputs": [],
   "source": [
    "os.path.exists('.')"
   ]
  },
  {
   "cell_type": "code",
   "execution_count": null,
   "metadata": {},
   "outputs": [],
   "source": [
    "print (\"path: \", path)\n",
    "os.path.exists(path)"
   ]
  },
  {
   "cell_type": "code",
   "execution_count": null,
   "metadata": {},
   "outputs": [],
   "source": [
    "# make a new directory if not existing\n",
    "if not os.path.exists(path): \n",
    "    os.mkdir(path)"
   ]
  },
  {
   "cell_type": "code",
   "execution_count": null,
   "metadata": {},
   "outputs": [],
   "source": [
    "print (\"path: \", path)\n",
    "os.path.exists(path)"
   ]
  },
  {
   "cell_type": "code",
   "execution_count": null,
   "metadata": {},
   "outputs": [],
   "source": [
    "# remove a directory if existing\n",
    "if os.path.exists(path): \n",
    "    os.rmdir(path)"
   ]
  },
  {
   "cell_type": "code",
   "execution_count": null,
   "metadata": {},
   "outputs": [],
   "source": [
    "print (\"path: \", path)\n",
    "os.path.exists(path)"
   ]
  },
  {
   "cell_type": "code",
   "execution_count": null,
   "metadata": {},
   "outputs": [],
   "source": []
  },
  {
   "cell_type": "markdown",
   "metadata": {},
   "source": [
    "### 1.8 Checking path and file validity\n",
    "- **isfile**: checking whether it is a file\n",
    "- **isdir**: checking whether it is a directory"
   ]
  },
  {
   "cell_type": "code",
   "execution_count": null,
   "metadata": {},
   "outputs": [],
   "source": [
    "listFileDirs = os.listdir(os.getcwd())\n",
    "print (listFileDirs)\n",
    "\n",
    "for i in range(len(listFileDirs)):\n",
    "    print(listFileDirs[i], os.path.isfile(listFileDirs[i]))"
   ]
  },
  {
   "cell_type": "code",
   "execution_count": null,
   "metadata": {},
   "outputs": [],
   "source": [
    "for i in range(len(listFileDirs)):\n",
    "    print(listFileDirs[i], os.path.isdir(listFileDirs[i]))"
   ]
  },
  {
   "cell_type": "code",
   "execution_count": null,
   "metadata": {},
   "outputs": [],
   "source": []
  },
  {
   "cell_type": "markdown",
   "metadata": {},
   "source": [
    "### File rename\n",
    "- **rename**: rename a file"
   ]
  },
  {
   "cell_type": "code",
   "execution_count": null,
   "metadata": {},
   "outputs": [],
   "source": [
    "print(os.listdir(os.getcwd()))\n",
    "\n",
    "orgName=os.listdir(os.getcwd())[0]\n",
    "newName= \"test\"\n",
    "os.rename(orgName, newName)\n",
    "print(os.listdir(os.getcwd()))\n",
    "\n",
    "os.rename(newName, orgName)\n",
    "print(os.listdir(os.getcwd()))"
   ]
  }
 ],
 "metadata": {
  "kernelspec": {
   "display_name": "Python 3",
   "language": "python",
   "name": "python3"
  },
  "language_info": {
   "codemirror_mode": {
    "name": "ipython",
    "version": 3
   },
   "file_extension": ".py",
   "mimetype": "text/x-python",
   "name": "python",
   "nbconvert_exporter": "python",
   "pygments_lexer": "ipython3",
   "version": "3.9.13"
  },
  "vscode": {
   "interpreter": {
    "hash": "336e349e30a9206dcf01b912511f93e5f6bbb4c3f49539de93fb91a7131e0fd7"
   }
  }
 },
 "nbformat": 4,
 "nbformat_minor": 2
}
